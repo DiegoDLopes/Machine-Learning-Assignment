{
 "cells": [
  {
   "cell_type": "markdown",
   "metadata": {},
   "source": [
    "## Assignment 4 - Understanding and Predicting Property Maintenance Fines\n",
    "\n",
    "This assignment is based on a data challenge from the Michigan Data Science Team ([MDST](http://midas.umich.edu/mdst/)). \n",
    "\n",
    "The Michigan Data Science Team ([MDST](http://midas.umich.edu/mdst/)) and the Michigan Student Symposium for Interdisciplinary Statistical Sciences ([MSSISS](https://sites.lsa.umich.edu/mssiss/)) have partnered with the City of Detroit to help solve one of the most pressing problems facing Detroit - blight. [Blight violations](http://www.detroitmi.gov/How-Do-I/Report/Blight-Complaint-FAQs) are issued by the city to individuals who allow their properties to remain in a deteriorated condition. Every year, the city of Detroit issues millions of dollars in fines to residents and every year, many of these fines remain unpaid. Enforcing unpaid blight fines is a costly and tedious process, so the city wants to know: how can we increase blight ticket compliance?\n",
    "\n",
    "The first step in answering this question is understanding when and why a resident might fail to comply with a blight ticket. This is where predictive modeling comes in. For this assignment, your task is to predict whether a given blight ticket will be paid on time.\n",
    "\n",
    "All data for this assignment has been provided to us through the [Detroit Open Data Portal](https://data.detroitmi.gov/). **Only the data already included in your Coursera directory can be used for training the model for this assignment.** Nonetheless, we encourage you to look into data from other Detroit datasets to help inform feature creation and model selection. We recommend taking a look at the following related datasets:\n",
    "\n",
    "* [Building Permits](https://data.detroitmi.gov/Property-Parcels/Building-Permits/xw2a-a7tf)\n",
    "* [Trades Permits](https://data.detroitmi.gov/Property-Parcels/Trades-Permits/635b-dsgv)\n",
    "* [Improve Detroit: Submitted Issues](https://data.detroitmi.gov/Government/Improve-Detroit-Submitted-Issues/fwz3-w3yn)\n",
    "* [DPD: Citizen Complaints](https://data.detroitmi.gov/Public-Safety/DPD-Citizen-Complaints-2016/kahe-efs3)\n",
    "* [Parcel Map](https://data.detroitmi.gov/Property-Parcels/Parcel-Map/fxkw-udwf)\n",
    "\n",
    "___\n",
    "\n",
    "We provide you with two data files for use in training and validating your models: train.csv and test.csv. Each row in these two files corresponds to a single blight ticket, and includes information about when, why, and to whom each ticket was issued. The target variable is compliance, which is True if the ticket was paid early, on time, or within one month of the hearing data, False if the ticket was paid after the hearing date or not at all, and Null if the violator was found not responsible. Compliance, as well as a handful of other variables that will not be available at test-time, are only included in train.csv.\n",
    "\n",
    "Note: All tickets where the violators were found not responsible are not considered during evaluation. They are included in the training set as an additional source of data for visualization, and to enable unsupervised and semi-supervised approaches. However, they are not included in the test set.\n",
    "\n",
    "<br>\n",
    "\n",
    "**File descriptions** (Use only this data for training your model!)\n",
    "\n",
    "    readonly/train.csv - the training set (all tickets issued 2004-2011)\n",
    "    readonly/test.csv - the test set (all tickets issued 2012-2016)\n",
    "    readonly/addresses.csv & readonly/latlons.csv - mapping from ticket id to addresses, and from addresses to lat/lon coordinates. \n",
    "     Note: misspelled addresses may be incorrectly geolocated.\n",
    "\n",
    "<br>\n",
    "\n",
    "**Data fields**\n",
    "\n",
    "train.csv & test.csv\n",
    "\n",
    "    ticket_id - unique identifier for tickets\n",
    "    agency_name - Agency that issued the ticket\n",
    "    inspector_name - Name of inspector that issued the ticket\n",
    "    violator_name - Name of the person/organization that the ticket was issued to\n",
    "    violation_street_number, violation_street_name, violation_zip_code - Address where the violation occurred\n",
    "    mailing_address_str_number, mailing_address_str_name, city, state, zip_code, non_us_str_code, country - Mailing address of the violator\n",
    "    ticket_issued_date - Date and time the ticket was issued\n",
    "    hearing_date - Date and time the violator's hearing was scheduled\n",
    "    violation_code, violation_description - Type of violation\n",
    "    disposition - Judgment and judgement type\n",
    "    fine_amount - Violation fine amount, excluding fees\n",
    "    admin_fee - $20 fee assigned to responsible judgments\n",
    "state_fee - $10 fee assigned to responsible judgments\n",
    "    late_fee - 10% fee assigned to responsible judgments\n",
    "    discount_amount - discount applied, if any\n",
    "    clean_up_cost - DPW clean-up or graffiti removal cost\n",
    "    judgment_amount - Sum of all fines and fees\n",
    "    grafitti_status - Flag for graffiti violations\n",
    "    \n",
    "train.csv only\n",
    "\n",
    "    payment_amount - Amount paid, if any\n",
    "    payment_date - Date payment was made, if it was received\n",
    "    payment_status - Current payment status as of Feb 1 2017\n",
    "    balance_due - Fines and fees still owed\n",
    "    collection_status - Flag for payments in collections\n",
    "    compliance [target variable for prediction] \n",
    "     Null = Not responsible\n",
    "     0 = Responsible, non-compliant\n",
    "     1 = Responsible, compliant\n",
    "    compliance_detail - More information on why each ticket was marked compliant or non-compliant\n",
    "\n",
    "\n",
    "___\n",
    "\n",
    "## Evaluation\n",
    "\n",
    "Your predictions will be given as the probability that the corresponding blight ticket will be paid on time.\n",
    "\n",
    "The evaluation metric for this assignment is the Area Under the ROC Curve (AUC). \n",
    "\n",
    "Your grade will be based on the AUC score computed for your classifier. A model which with an AUROC of 0.7 passes this assignment, over 0.75 will recieve full points.\n",
    "___\n",
    "\n",
    "For this assignment, create a function that trains a model to predict blight ticket compliance in Detroit using `readonly/train.csv`. Using this model, return a series of length 61001 with the data being the probability that each corresponding ticket from `readonly/test.csv` will be paid, and the index being the ticket_id.\n",
    "\n",
    "Example:\n",
    "\n",
    "    ticket_id\n",
    "       284932    0.531842\n",
    "       285362    0.401958\n",
    "       285361    0.105928\n",
    "       285338    0.018572\n",
    "                 ...\n",
    "       376499    0.208567\n",
    "       376500    0.818759\n",
    "       369851    0.018528\n",
    "       Name: compliance, dtype: float32\n",
    "       \n",
    "### Hints\n",
    "\n",
    "* Make sure your code is working before submitting it to the autograder.\n",
    "\n",
    "* Print out your result to see whether there is anything weird (e.g., all probabilities are the same).\n",
    "\n",
    "* Generally the total runtime should be less than 10 mins. You should NOT use Neural Network related classifiers (e.g., MLPClassifier) in this question. \n",
    "\n",
    "* Try to avoid global variables. If you have other functions besides blight_model, you should move those functions inside the scope of blight_model.\n",
    "\n",
    "* Refer to the pinned threads in Week 4's discussion forum when there is something you could not figure it out."
   ]
  },
  {
   "cell_type": "code",
   "execution_count": 46,
   "metadata": {},
   "outputs": [],
   "source": [
    "import pandas as pd\n",
    "import numpy as np"
   ]
  },
  {
   "cell_type": "code",
   "execution_count": 47,
   "metadata": {},
   "outputs": [],
   "source": [
    "df_train = pd.read_csv('readonly/train.csv', sep=\",\", encoding='mac_roman',low_memory=False)\n",
    "df_test = pd.read_csv('readonly/test.csv')"
   ]
  },
  {
   "cell_type": "markdown",
   "metadata": {},
   "source": [
    "Primeiramente precisamos retirar as colunas que estão presentes somente nos dados para treinamento e não nos dados para teste, já que essas informação não podem ser usadas para a generalização do modelo."
   ]
  },
  {
   "cell_type": "code",
   "execution_count": 48,
   "metadata": {},
   "outputs": [],
   "source": [
    "target = df_train['compliance']\n",
    "df_train = df_train[df_test.columns]\n",
    "df_train['compliance'] = target"
   ]
  },
  {
   "cell_type": "code",
   "execution_count": 49,
   "metadata": {},
   "outputs": [],
   "source": [
    "df_train = df_train.dropna(subset=['compliance'])"
   ]
  },
  {
   "cell_type": "markdown",
   "metadata": {},
   "source": [
    "Abaixo temos todas as colunas que serão retiradas dos dados para treinar o modelo. Algumas não oferecem nenhuma informação preditiva, como 'inspector_name' e 'violator_name' por exemplo, pois são apenas os nomes das pessoa. Outras são constantes, como 'admin_fee', 'state_fee', 'late_fee' e 'clean_up_cost'. Por fim, a variável 'agency_name' oferece algum poder preditivo, no entanto essas agências não se mantém as mesmas com o tempo, o que é possível ver pela preseça de agências diferentes nos dados de teste, por isso essa coluna também é retirada."
   ]
  },
  {
   "cell_type": "code",
   "execution_count": 50,
   "metadata": {},
   "outputs": [],
   "source": [
    "drop = ['inspector_name','violator_name','violation_street_number', 'violation_street_name', \n",
    "        'violation_zip_code','mailing_address_str_number', 'mailing_address_str_name', \n",
    "        'city', 'state', 'zip_code', 'non_us_str_code', 'country','ticket_issued_date','hearing_date',\n",
    "        'violation_description','violation_code','admin_fee','state_fee','late_fee','clean_up_cost',\n",
    "        'grafitti_status','agency_name','disposition']"
   ]
  },
  {
   "cell_type": "code",
   "execution_count": 51,
   "metadata": {},
   "outputs": [],
   "source": [
    "features = [col for col in df_train.columns if col not in drop]\n",
    "features_test = [col for col in df_test.columns if col not in drop]"
   ]
  },
  {
   "cell_type": "code",
   "execution_count": 52,
   "metadata": {},
   "outputs": [],
   "source": [
    "df_test = df_test[features_test]\n",
    "df_test = df_test.set_index('ticket_id')"
   ]
  },
  {
   "cell_type": "code",
   "execution_count": 53,
   "metadata": {},
   "outputs": [],
   "source": [
    "df_train = df_train[features]"
   ]
  },
  {
   "cell_type": "markdown",
   "metadata": {},
   "source": [
    "Com as features definidas, podes separar os dados de treino em treino e teste para validar o modelo antes de submeter para o teste final com os dados de teste, para os quais não temos a classificação."
   ]
  },
  {
   "cell_type": "code",
   "execution_count": 54,
   "metadata": {},
   "outputs": [],
   "source": [
    "from sklearn.model_selection import train_test_split\n",
    "\n",
    "X = df_train[['fine_amount', 'discount_amount', 'judgment_amount']]\n",
    "y = df_train['compliance']\n",
    "\n",
    "X_train, X_test, y_train, y_test = train_test_split(X, y, random_state=0)"
   ]
  },
  {
   "cell_type": "code",
   "execution_count": 55,
   "metadata": {},
   "outputs": [
    {
     "data": {
      "text/plain": [
       "0.0    111205\n",
       "1.0      8705\n",
       "Name: compliance, dtype: int64"
      ]
     },
     "execution_count": 55,
     "metadata": {},
     "output_type": "execute_result"
    }
   ],
   "source": [
    "y_train.value_counts()"
   ]
  },
  {
   "cell_type": "markdown",
   "metadata": {},
   "source": [
    "Vemos acima que a classes para classificação são bastante desbalanceadas, o que justifica a utilização da métrica roc-auc no lugar da accuracy, que teria um valor alto mesmo para um classificador que apenas classifica como a classe mais frequente (dummie classifier).\n",
    "\n",
    "Usamos como modelo a Regressão Logística, devido a simplicidade dos dados que temos (apenas três features) e a quantidade de dados (A Regressão Logística não consome muito tempo)."
   ]
  },
  {
   "cell_type": "code",
   "execution_count": 56,
   "metadata": {},
   "outputs": [
    {
     "name": "stdout",
     "output_type": "stream",
     "text": [
      "train set roc-auc 0.75280\n",
      "test set roc-auc 0.75263\n"
     ]
    }
   ],
   "source": [
    "from sklearn.linear_model import LogisticRegression\n",
    "from sklearn.metrics import roc_curve, auc\n",
    "\n",
    "lr = LogisticRegression(solver='liblinear', random_state=0).fit(X_train, y_train)\n",
    "\n",
    "y_score_lr = lr.predict_proba(X_train)\n",
    "fpr_lr, tpr_lr, _ = roc_curve(y_train, y_score_lr[:,1])\n",
    "roc_auc_lr = auc(fpr_lr, tpr_lr)\n",
    "print('train set roc-auc {:.5f}'.format(roc_auc_lr))\n",
    "\n",
    "y_score_lr = lr.predict_proba(X_test)\n",
    "fpr_lr, tpr_lr, _ = roc_curve(y_test, y_score_lr[:,1])\n",
    "roc_auc_lr = auc(fpr_lr, tpr_lr)\n",
    "print('test set roc-auc {:.5f}'.format(roc_auc_lr))"
   ]
  },
  {
   "cell_type": "markdown",
   "metadata": {},
   "source": [
    "Podemos ver que esse modelo com as features escolhidas funciona muito bem, tanto nos dados de treino quanto nos de teste, o que evidencia a eficâcia do modelo em generalizar para novos dados. \n",
    "\n",
    "Abaixo vemos um plor da curva ROC, acima da curva de um modelo aleatório (pontilhada), mostrando que o modelo funciona bem."
   ]
  },
  {
   "cell_type": "code",
   "execution_count": 57,
   "metadata": {},
   "outputs": [
    {
     "data": {
      "image/png": "[encoded data removed]",
      "text/plain": [
       "<Figure size 720x432 with 1 Axes>"
      ]
     },
     "metadata": {
      "needs_background": "light"
     },
     "output_type": "display_data"
    }
   ],
   "source": [
    "import seaborn as sns\n",
    "import matplotlib.pyplot as plt\n",
    "\n",
    "%matplotlib inline\n",
    "\n",
    "plt.figure(figsize=(10,6))\n",
    "plt.xlim([-0.01, 1.00])\n",
    "plt.ylim([-0.01, 1.01])\n",
    "plt.plot(fpr_lr, tpr_lr, lw=3, label='LogRegr ROC curve (area = {:0.2f})'.format(roc_auc_lr))\n",
    "plt.xlabel('False Positive Rate', fontsize=16)\n",
    "plt.ylabel('True Positive Rate', fontsize=16)\n",
    "plt.title('ROC curve', fontsize=16)\n",
    "plt.legend(loc='lower right', fontsize=13)\n",
    "plt.plot([0, 1], [0, 1], color='navy', lw=3, linestyle='--')\n",
    "plt.axes().set_aspect('equal')\n",
    "plt.show()"
   ]
  },
  {
   "cell_type": "markdown",
   "metadata": {},
   "source": [
    "Abaixo definimos uma função que treina o mesmo modelo, mas agora utilizando todos os dados de treino, e aplica esse modelo nos dados de teste retornando a probabilidade de que cada multado pague a sua multa dentro do tempo estimado. A avaliação dessas predições foi muito parecida com as obtidas acima, com uma auc um pouco acima de 0.75, resultando em nota máxima nessa avaliação."
   ]
  },
  {
   "cell_type": "code",
   "execution_count": 60,
   "metadata": {},
   "outputs": [],
   "source": [
    "import pandas as pd\n",
    "import numpy as np\n",
    "\n",
    "def blight_model():\n",
    "    \n",
    "    # Your code here\n",
    "    df_train = pd.read_csv('readonly/train.csv', sep=\",\", encoding='mac_roman',low_memory=False)\n",
    "    df_test = pd.read_csv('readonly/test.csv')\n",
    "    \n",
    "    target = df_train['compliance']\n",
    "    df_train = df_train[df_test.columns]\n",
    "    df_train['compliance'] = target\n",
    "    df_train = df_train.dropna(subset=['compliance'])\n",
    "    \n",
    "    drop = ['inspector_name','violator_name','violation_street_number', 'violation_street_name', \n",
    "            'violation_zip_code','mailing_address_str_number', 'mailing_address_str_name', \n",
    "            'city', 'state', 'zip_code', 'non_us_str_code', 'country','ticket_issued_date','hearing_date',\n",
    "            'violation_description','violation_code','admin_fee','state_fee','late_fee','clean_up_cost',\n",
    "            'grafitti_status','agency_name','disposition']\n",
    "    features = [col for col in df_train.columns if col not in drop]\n",
    "    features_test = [col for col in df_test.columns if col not in drop]\n",
    "    \n",
    "    df_test = df_test[features_test]\n",
    "    df_test = df_test.set_index('ticket_id')\n",
    "    \n",
    "    df_train = df_train[features]\n",
    "    df_train = df_train.set_index('ticket_id')\n",
    "    \n",
    "    from sklearn.model_selection import train_test_split\n",
    "\n",
    "    X = df_train[['fine_amount', 'discount_amount', 'judgment_amount']]\n",
    "    y = df_train['compliance']\n",
    "    \n",
    "    from sklearn.linear_model import LogisticRegression\n",
    "    from sklearn.metrics import roc_curve, auc\n",
    "\n",
    "    lr = LogisticRegression(random_state=0).fit(X, y)\n",
    "    \n",
    "    y_test_prob = lr.predict_proba(df_test)\n",
    "    df_test[''] = y_test_prob[:,1]\n",
    "    \n",
    "    return df_test['']# Your answer here"
   ]
  },
  {
   "cell_type": "code",
   "execution_count": 61,
   "metadata": {},
   "outputs": [
    {
     "name": "stderr",
     "output_type": "stream",
     "text": [
      "/home/diego/anaconda2/lib/python2.7/site-packages/sklearn/linear_model/logistic.py:433: FutureWarning: Default solver will be changed to 'lbfgs' in 0.22. Specify a solver to silence this warning.\n",
      "  FutureWarning)\n",
      "/home/diego/anaconda2/lib/python2.7/site-packages/sklearn/linear_model/base.py:297: RuntimeWarning: overflow encountered in exp\n",
      "  np.exp(prob, prob)\n"
     ]
    },
    {
     "data": {
      "text/plain": [
       "ticket_id\n",
       "284932    5.791636e-02\n",
       "285362    5.031950e-03\n",
       "285361    7.749581e-02\n",
       "285338    5.791636e-02\n",
       "285346    7.749581e-02\n",
       "285345    5.791636e-02\n",
       "285347    8.941856e-02\n",
       "285342    1.968266e-01\n",
       "285530    5.031950e-03\n",
       "284989    2.352760e-02\n",
       "285344    8.941856e-02\n",
       "285343    5.031950e-03\n",
       "285340    5.031950e-03\n",
       "285341    8.941856e-02\n",
       "285349    7.749581e-02\n",
       "285348    5.791636e-02\n",
       "284991    2.352760e-02\n",
       "285532    2.352760e-02\n",
       "285406    2.352760e-02\n",
       "285001    2.352760e-02\n",
       "285006    5.031950e-03\n",
       "285405    5.031950e-03\n",
       "285337    2.352760e-02\n",
       "285496    8.941856e-02\n",
       "285497    5.791636e-02\n",
       "285378    5.031950e-03\n",
       "285589    2.352760e-02\n",
       "285585    5.791636e-02\n",
       "285501    7.749581e-02\n",
       "285581    5.031950e-03\n",
       "              ...     \n",
       "376367    1.091829e-02\n",
       "376366    4.996352e-02\n",
       "376362    4.996352e-02\n",
       "376363    5.791636e-02\n",
       "376365    1.091829e-02\n",
       "376364    4.996352e-02\n",
       "376228    4.996352e-02\n",
       "376265    4.996352e-02\n",
       "376286    2.285267e-01\n",
       "376320    4.996352e-02\n",
       "376314    4.996352e-02\n",
       "376327    2.285267e-01\n",
       "376385    2.285267e-01\n",
       "376435    6.635906e-01\n",
       "376370    2.285267e-01\n",
       "376434    8.941856e-02\n",
       "376459    7.749581e-02\n",
       "376478    1.905479e-08\n",
       "376473    4.996352e-02\n",
       "376484    4.305283e-02\n",
       "376482    2.352760e-02\n",
       "376480    2.352760e-02\n",
       "376479    2.352760e-02\n",
       "376481    2.352760e-02\n",
       "376483    4.996352e-02\n",
       "376496    5.031950e-03\n",
       "376497    5.031950e-03\n",
       "376499    7.749581e-02\n",
       "376500    7.749581e-02\n",
       "369851    1.218482e-01\n",
       "Name: , Length: 61001, dtype: float64"
      ]
     },
     "execution_count": 61,
     "metadata": {},
     "output_type": "execute_result"
    }
   ],
   "source": [
    "blight_model()"
   ]
  },
  {
   "cell_type": "code",
   "execution_count": null,
   "metadata": {},
   "outputs": [],
   "source": []
  }
 ],
 "metadata": {
  "coursera": {
   "course_slug": "python-machine-learning",
   "graded_item_id": "nNS8l",
   "launcher_item_id": "yWWk7",
   "part_id": "w8BSS"
  },
  "kernelspec": {
   "display_name": "Python 3",
   "language": "python",
   "name": "python3"
  },
  "language_info": {
   "codemirror_mode": {
    "name": "ipython",
    "version": 2
   },
   "file_extension": ".py",
   "mimetype": "text/x-python",
   "name": "python",
   "nbconvert_exporter": "python",
   "pygments_lexer": "ipython2",
   "version": "2.7.16"
  }
 },
 "nbformat": 4,
 "nbformat_minor": 2
}
